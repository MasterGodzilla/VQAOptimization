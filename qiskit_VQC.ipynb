{
 "cells": [
  {
   "cell_type": "code",
   "execution_count": 1,
   "metadata": {
    "id": "6c123446-325f-40be-baaf-7da1073c7594"
   },
   "outputs": [],
   "source": [
    "from qiskit.utils import algorithm_globals\n",
    "algorithm_globals.random_seed = 0 # 3142\n",
    "\n",
    "import numpy as np\n",
    "\n",
    "np.random.seed(algorithm_globals.random_seed)"
   ]
  },
  {
   "cell_type": "code",
   "execution_count": 2,
   "metadata": {
    "id": "cdab9254-c441-4e53-a0f1-995df8b3fcb8",
    "tags": []
   },
   "outputs": [],
   "source": [
    "from qiskit_machine_learning.datasets import ad_hoc_data\n",
    "TRAIN_DATA, TRAIN_LABELS, TEST_DATA, TEST_LABELS = (\n",
    "    ad_hoc_data(training_size = 20, \n",
    "                test_size = 5, \n",
    "                n = 2,\n",
    "                gap = 0.3, \n",
    "                one_hot = False)\n",
    ")"
   ]
  },
  {
   "cell_type": "code",
   "execution_count": 3,
   "metadata": {},
   "outputs": [
    {
     "name": "stdout",
     "output_type": "stream",
     "text": [
      "80\n"
     ]
    }
   ],
   "source": [
    "print (TRAIN_DATA.size)"
   ]
  },
  {
   "cell_type": "code",
   "execution_count": 4,
   "metadata": {
    "colab": {
     "base_uri": "https://localhost:8080/",
     "height": 448
    },
    "id": "6fe63c45-f55b-4ad5-ae1f-1a8cb13148d8",
    "outputId": "5a71da99-7db7-4f01-e533-ec2423269009",
    "tags": []
   },
   "outputs": [
    {
     "data": {
      "text/html": [
       "<pre style=\"word-wrap: normal;white-space: pre;background: #fff0;line-height: 1.1;font-family: &quot;Courier New&quot;,Courier,monospace\">        ┌───┐┌─────────────┐                                          ┌───┐»\n",
       "   q_0: ┤ H ├┤ P(2.0*x[0]) ├──■────────────────────────────────────■──┤ H ├»\n",
       "        ├───┤├─────────────┤┌─┴─┐┌──────────────────────────────┐┌─┴─┐├───┤»\n",
       "   q_1: ┤ H ├┤ P(2.0*x[1]) ├┤ X ├┤ P(2.0*(π - x[0])*(π - x[1])) ├┤ X ├┤ H ├»\n",
       "        └───┘└─────────────┘└───┘└──────────────────────────────┘└───┘└───┘»\n",
       "meas: 2/═══════════════════════════════════════════════════════════════════»\n",
       "                                                                           »\n",
       "«        ┌─────────────┐                                          ┌──────────┐»\n",
       "«   q_0: ┤ P(2.0*x[0]) ├──■────────────────────────────────────■──┤ Ry(θ[0]) ├»\n",
       "«        ├─────────────┤┌─┴─┐┌──────────────────────────────┐┌─┴─┐├──────────┤»\n",
       "«   q_1: ┤ P(2.0*x[1]) ├┤ X ├┤ P(2.0*(π - x[0])*(π - x[1])) ├┤ X ├┤ Ry(θ[1]) ├»\n",
       "«        └─────────────┘└───┘└──────────────────────────────┘└───┘└──────────┘»\n",
       "«meas: 2/═════════════════════════════════════════════════════════════════════»\n",
       "«                                                                             »\n",
       "«        ┌──────────┐   ┌──────────┐┌──────────┐   ┌──────────┐┌───────────┐ ░ »\n",
       "«   q_0: ┤ Rz(θ[2]) ├─■─┤ Ry(θ[4]) ├┤ Rz(θ[6]) ├─■─┤ Ry(θ[8]) ├┤ Rz(θ[10]) ├─░─»\n",
       "«        ├──────────┤ │ ├──────────┤├──────────┤ │ ├──────────┤├───────────┤ ░ »\n",
       "«   q_1: ┤ Rz(θ[3]) ├─■─┤ Ry(θ[5]) ├┤ Rz(θ[7]) ├─■─┤ Ry(θ[9]) ├┤ Rz(θ[11]) ├─░─»\n",
       "«        └──────────┘   └──────────┘└──────────┘   └──────────┘└───────────┘ ░ »\n",
       "«meas: 2/══════════════════════════════════════════════════════════════════════»\n",
       "«                                                                              »\n",
       "«        ┌─┐   \n",
       "«   q_0: ┤M├───\n",
       "«        └╥┘┌─┐\n",
       "«   q_1: ─╫─┤M├\n",
       "«         ║ └╥┘\n",
       "«meas: 2/═╩══╩═\n",
       "«         0  1 </pre>"
      ],
      "text/plain": [
       "        ┌───┐┌─────────────┐                                          ┌───┐»\n",
       "   q_0: ┤ H ├┤ P(2.0*x[0]) ├──■────────────────────────────────────■──┤ H ├»\n",
       "        ├───┤├─────────────┤┌─┴─┐┌──────────────────────────────┐┌─┴─┐├───┤»\n",
       "   q_1: ┤ H ├┤ P(2.0*x[1]) ├┤ X ├┤ P(2.0*(π - x[0])*(π - x[1])) ├┤ X ├┤ H ├»\n",
       "        └───┘└─────────────┘└───┘└──────────────────────────────┘└───┘└───┘»\n",
       "meas: 2/═══════════════════════════════════════════════════════════════════»\n",
       "                                                                           »\n",
       "«        ┌─────────────┐                                          ┌──────────┐»\n",
       "«   q_0: ┤ P(2.0*x[0]) ├──■────────────────────────────────────■──┤ Ry(θ[0]) ├»\n",
       "«        ├─────────────┤┌─┴─┐┌──────────────────────────────┐┌─┴─┐├──────────┤»\n",
       "«   q_1: ┤ P(2.0*x[1]) ├┤ X ├┤ P(2.0*(π - x[0])*(π - x[1])) ├┤ X ├┤ Ry(θ[1]) ├»\n",
       "«        └─────────────┘└───┘└──────────────────────────────┘└───┘└──────────┘»\n",
       "«meas: 2/═════════════════════════════════════════════════════════════════════»\n",
       "«                                                                             »\n",
       "«        ┌──────────┐   ┌──────────┐┌──────────┐   ┌──────────┐┌───────────┐ ░ »\n",
       "«   q_0: ┤ Rz(θ[2]) ├─■─┤ Ry(θ[4]) ├┤ Rz(θ[6]) ├─■─┤ Ry(θ[8]) ├┤ Rz(θ[10]) ├─░─»\n",
       "«        ├──────────┤ │ ├──────────┤├──────────┤ │ ├──────────┤├───────────┤ ░ »\n",
       "«   q_1: ┤ Rz(θ[3]) ├─■─┤ Ry(θ[5]) ├┤ Rz(θ[7]) ├─■─┤ Ry(θ[9]) ├┤ Rz(θ[11]) ├─░─»\n",
       "«        └──────────┘   └──────────┘└──────────┘   └──────────┘└───────────┘ ░ »\n",
       "«meas: 2/══════════════════════════════════════════════════════════════════════»\n",
       "«                                                                              »\n",
       "«        ┌─┐   \n",
       "«   q_0: ┤M├───\n",
       "«        └╥┘┌─┐\n",
       "«   q_1: ─╫─┤M├\n",
       "«         ║ └╥┘\n",
       "«meas: 2/═╩══╩═\n",
       "«         0  1 "
      ]
     },
     "execution_count": 4,
     "metadata": {},
     "output_type": "execute_result"
    }
   ],
   "source": [
    "from qiskit.circuit.library import ZZFeatureMap, TwoLocal\n",
    "FEATURE_MAP = ZZFeatureMap(feature_dimension = 2, reps = 2)\n",
    "VAR_FORM = TwoLocal(2, ['ry', 'rz'], 'cz', reps = 2)\n",
    "\n",
    "AD_HOC_CIRCUIT = FEATURE_MAP.compose(VAR_FORM)\n",
    "AD_HOC_CIRCUIT.measure_all()\n",
    "AD_HOC_CIRCUIT.decompose().draw()"
   ]
  },
  {
   "cell_type": "code",
   "execution_count": 5,
   "metadata": {
    "id": "a6314ee3-2916-4448-82bd-10129f1d559a",
    "tags": []
   },
   "outputs": [],
   "source": [
    "def circuit_instance(data, variational):\n",
    "    \"\"\"Assigns parameter values to AD_HOC_CIRCUIT. \n",
    "    Args:\n",
    "        data (list): Data values for the feature map\n",
    "        variational (list): Parameter values for VAR_FORM\n",
    "    Returns:\n",
    "        QuantumCircuit: AD_HOC_CIRCUIT with parameters assigned\n",
    "    \"\"\"\n",
    "    parameters = {}\n",
    "    for i, p in enumerate(FEATURE_MAP.ordered_parameters):\n",
    "        parameters[p] = data[i]\n",
    "    for i, p in enumerate(VAR_FORM.ordered_parameters):\n",
    "        parameters[p] = variational[i]\n",
    "    return AD_HOC_CIRCUIT.assign_parameters(parameters)"
   ]
  },
  {
   "cell_type": "code",
   "execution_count": 6,
   "metadata": {
    "id": "7c7c8478-966b-4b42-8888-7f710c7ff831",
    "tags": []
   },
   "outputs": [],
   "source": [
    "def parity(bitstring):\n",
    "    \"\"\"Returns 1 if parity of 'bitstring' is even, otherwise 0.\"\"\"\n",
    "    hamming_weight = sum(int(k) for k in list(bitstring))\n",
    "    return (hamming_weight+1)%2\n"
   ]
  },
  {
   "cell_type": "code",
   "execution_count": 7,
   "metadata": {
    "id": "8b33e778-163a-4dbe-898a-3721750f9f46",
    "tags": []
   },
   "outputs": [],
   "source": [
    "def label_probability(results):\n",
    "    shots = sum(results.values())\n",
    "    probabilities = {0: 0, 1: 0}\n",
    "    for bitstring, counts in results.items():\n",
    "        label = parity(bitstring)\n",
    "        probabilities[label] += counts / shots\n",
    "    return probabilities"
   ]
  },
  {
   "cell_type": "code",
   "execution_count": 8,
   "metadata": {
    "id": "65c41453-d1eb-4bf4-91d1-3384039d7df2",
    "tags": []
   },
   "outputs": [],
   "source": [
    "from qiskit import BasicAer, execute, Aer\n",
    "from qiskit_aer import aer_simulator\n",
    "\n",
    "def classification_probability(data, variational):\n",
    "    circuits = [circuit_instance(d, variational) for d in data]\n",
    "    backend = Aer.get_backend('aer_simulator')\n",
    "    results = execute(circuits, backend).result()\n",
    "    classification = [label_probability(results.get_counts(c)) for c in circuits]\n",
    "    return classification"
   ]
  },
  {
   "cell_type": "code",
   "execution_count": 9,
   "metadata": {
    "id": "e68ef3d1-dcd5-4d60-9ea0-46ec0328e2e6",
    "tags": []
   },
   "outputs": [],
   "source": [
    "def cross_entropy_loss(classification, expected):\n",
    "    \"\"\"Calculate accuracy of predictions using cross entropy loss.\n",
    "    Args:\n",
    "        classification (dict): Dict where keys are possible classes,\n",
    "                               and values are the probability our\n",
    "                               circuit chooses that class.\n",
    "        expected (int): Correct classification of the data point.\n",
    "\n",
    "    Returns:\n",
    "        float: Cross entropy loss\n",
    "    \"\"\"\n",
    "    p = classification.get(expected)  # Prob. of correct classification\n",
    "    return -np.log(p + 1e-10)\n",
    "\n",
    "def cost_function(data, labels, variational):\n",
    "    \"\"\"Evaluates performance of our circuit with `variational`\n",
    "    parameters on `data`.\n",
    "\n",
    "    Args:\n",
    "        data (list): List of data points to classify\n",
    "        labels (list): List of correct labels for each data point\n",
    "        variational (list): Parameters to use in circuit\n",
    "\n",
    "    Returns:\n",
    "        float: Cost (metric of performance)\n",
    "    \"\"\"\n",
    "    classifications = classification_probability(data, variational)\n",
    "    cost = 0\n",
    "    for i, classification in enumerate(classifications):\n",
    "        cost += cross_entropy_loss(classification, labels[i])\n",
    "    cost /= len(data)\n",
    "    #print (cost)\n",
    "    return cost"
   ]
  },
  {
   "cell_type": "code",
   "execution_count": 10,
   "metadata": {
    "id": "c88a0cd1-01af-465f-9ae3-7eb4fea60c12"
   },
   "outputs": [],
   "source": [
    "class OptimizerLog:\n",
    "    \"\"\"Log to store optimizer's intermediate results\"\"\"\n",
    "    def __init__(self):\n",
    "        self.evaluations = []\n",
    "        self.parameters = []\n",
    "        self.costs = []\n",
    "    def update(self, evaluation, parameter, cost, _stepsize, _accept):\n",
    "        \"\"\"Save intermediate results. Optimizer passes five values\n",
    "        but we ignore the last two.\"\"\"\n",
    "        self.evaluations.append(evaluation)\n",
    "        self.parameters.append(parameter)\n",
    "        self.costs.append(cost)\n",
    "\n",
    "initial_point = np.random.random(VAR_FORM.num_parameters)\n",
    "#initial_point = np.array([3.28559355, 5.48514978, 5.13099949,\n",
    "#                          0.88372228, 4.08885928, 2.45568528,\n",
    "#                          4.92364593, 5.59032015, 3.66837805,\n",
    "#                          4.84632313, 3.60713748, 2.43546])\n",
    "\n",
    "def objective_function(variational):\n",
    "    \"\"\"Cost function of circuit parameters on training data.\n",
    "    The optimizer will attempt to minimize this.\"\"\"\n",
    "    return cost_function(TRAIN_DATA, TRAIN_LABELS, variational)"
   ]
  },
  {
   "cell_type": "code",
   "execution_count": 11,
   "metadata": {},
   "outputs": [
    {
     "name": "stdout",
     "output_type": "stream",
     "text": [
      "time: 234.6066620349884\n",
      "opt_value 0.24583958405396186\n",
      "opt_var [-0.29464169  0.30254853 -0.25185519  1.20634524  1.20889798  0.63830419\n",
      "  0.99907087  0.84047206  3.0048061   0.35029848 -0.2424633   1.40787947]\n"
     ]
    }
   ],
   "source": [
    "log_randgrad = OptimizerLog()\n",
    "\n",
    "from optimizers.randgrad import RandGrad\n",
    "optimizer = RandGrad(maxiter=100, callback=log_randgrad.update)\n",
    "\n",
    "from time import time\n",
    "tic = time()\n",
    "# Run the optimization\n",
    "result = optimizer.minimize(objective_function, initial_point)\n",
    "toc = time()\n",
    "print (\"time:\", toc-tic)\n",
    "\n",
    "opt_var = result.x\n",
    "opt_value = result.fun\n",
    "\n",
    "print (\"opt_value\", opt_value)\n",
    "print (\"opt_var\", opt_var)"
   ]
  },
  {
   "cell_type": "code",
   "execution_count": 14,
   "metadata": {
    "colab": {
     "base_uri": "https://localhost:8080/"
    },
    "id": "9bd9bdf5-74dd-40b7-98c3-4d25c727dd96",
    "outputId": "8afac7eb-4ab4-42c5-ca1b-9c6191740370"
   },
   "outputs": [
    {
     "name": "stdout",
     "output_type": "stream",
     "text": [
      "time: 250.94887733459473\n"
     ]
    }
   ],
   "source": [
    "# Set up the optimization\n",
    "from qiskit.algorithms.optimizers import SPSA\n",
    "log = OptimizerLog()\n",
    "optimizer = SPSA(maxiter=100, callback=log.update)\n",
    "\n",
    "from time import time\n",
    "tic = time()\n",
    "# Run the optimization\n",
    "result = optimizer.minimize(objective_function, initial_point)\n",
    "toc = time()\n",
    "print (\"time:\", toc-tic)\n",
    "\n",
    "opt_var = result.x\n",
    "opt_value = result.fun"
   ]
  },
  {
   "cell_type": "code",
   "execution_count": null,
   "metadata": {
    "colab": {
     "base_uri": "https://localhost:8080/",
     "height": 375
    },
    "id": "iCsaIrX6CKDk",
    "outputId": "56dec2b1-810c-4f5f-e0de-a4659ced4f68"
   },
   "outputs": [],
   "source": [
    "# Set up the optimization\n",
    "from qiskit.algorithms.optimizers import SPSA\n",
    "log_momentum = OptimizerLog()\n",
    "\n",
    "from optimizers.momentumSPSA import SPSAMomentum\n",
    "optimizer = SPSAMomentum(maxiter=100, callback=log_momentum.update)\n",
    "\n",
    "from time import time\n",
    "tic = time()\n",
    "# Run the optimization\n",
    "result = optimizer.minimize(objective_function, initial_point)\n",
    "toc = time()\n",
    "print (\"time:\", toc-tic)\n",
    "\n",
    "opt_var = result.x\n",
    "opt_value = result.fun"
   ]
  },
  {
   "cell_type": "code",
   "execution_count": null,
   "metadata": {},
   "outputs": [],
   "source": [
    "# Set up the optimization\n",
    "from qiskit.algorithms.optimizers import SPSA\n",
    "log_momentum2 = OptimizerLog()\n",
    "\n",
    "def powerseries(eta=0.01, power=2, offset=0):\n",
    "    \"\"\"Yield a series decreasing by a powerlaw.\"\"\"\n",
    "\n",
    "    n = 1\n",
    "    while True:\n",
    "        yield eta / ((n + offset) ** power)\n",
    "        n += 1\n",
    "\n",
    "def perturbation(): # the default perturbation\n",
    "    return powerseries(0.2, 0.101) \n",
    "\n",
    "optimizer = SPSAMomentum(maxiter=100, callback=log_momentum2.update, \n",
    "                         learning_rate = 0.1, perturbation = perturbation)\n",
    "# optimizer = SPSA(maxiter=100, callback=log.update)\n",
    "#optimizer = SPSA(maxiter=50, callback=log.update, second_order = True)\n",
    "\n",
    "from time import time\n",
    "tic = time()\n",
    "# Run the optimization\n",
    "result = optimizer.minimize(objective_function, initial_point)\n",
    "toc = time()\n",
    "print (\"time:\", toc-tic)\n",
    "\n",
    "opt_var = result.x\n",
    "opt_value = result.fun\n",
    "\n",
    "print (\"opt_value\", opt_value)\n",
    "print (opt_var, opt_var)"
   ]
  },
  {
   "cell_type": "code",
   "execution_count": null,
   "metadata": {},
   "outputs": [],
   "source": [
    "log_adam = OptimizerLog()\n",
    "\n",
    "from optimizers.momentumSPSA import SPSAMomentum\n",
    "optimizer = SPSAAdam(maxiter=100, callback=log_adam.update)\n",
    "\n",
    "from time import time\n",
    "tic = time()\n",
    "# Run the optimization\n",
    "result = optimizer.minimize(objective_function, initial_point)\n",
    "toc = time()\n",
    "print (\"time:\", toc-tic)\n",
    "\n",
    "opt_var = result.x\n",
    "opt_value = result.fun\n",
    "\n",
    "print (\"opt_value\", opt_value)\n",
    "print (\"opt_var\", opt_var)"
   ]
  },
  {
   "cell_type": "code",
   "execution_count": 15,
   "metadata": {
    "colab": {
     "base_uri": "https://localhost:8080/",
     "height": 451
    },
    "id": "iseXvEvPBiNY",
    "outputId": "6e7426ed-4369-4924-9df5-00bf99918484"
   },
   "outputs": [
    {
     "data": {
      "image/png": "[encoded data removed]",
      "text/plain": [
       "<Figure size 640x480 with 1 Axes>"
      ]
     },
     "metadata": {},
     "output_type": "display_data"
    }
   ],
   "source": [
    "import matplotlib.pyplot as plt\n",
    "fig = plt.figure()\n",
    "plt.plot(log.evaluations, log.costs, label = \"spsa\") #baseline\n",
    "#plt.plot(log_momentum.evaluations, log_momentum.costs, label = \"SPSAmomentum\") #momentum\n",
    "#plt.plot(log_momentum2.evaluations, log_momentum2.costs, \n",
    "#         label = \"SPSAmomentum constant learning rate\") #constant learning rate\n",
    "plt.plot(log_randgrad.evaluations, log_randgrad.costs, label = \"RandGrad\") #adam\n",
    "plt.legend()\n",
    "plt.xlabel('Steps')\n",
    "plt.ylabel('Cost')\n",
    "plt.show()"
   ]
  },
  {
   "cell_type": "code",
   "execution_count": null,
   "metadata": {
    "colab": {
     "base_uri": "https://localhost:8080/"
    },
    "id": "F6Ta6h0xG4TD",
    "outputId": "dbaf010c-49a9-4e4d-a784-1dba74baa60e"
   },
   "outputs": [],
   "source": [
    "def test_classifier(data, labels, variational):\n",
    "    \"\"\"Gets classifier's most likely predictions and accuracy of those\n",
    "    predictions.\n",
    "\n",
    "    Args:\n",
    "        data (list): List of data points to classify\n",
    "        labels (list): List of correct labels for each data point\n",
    "        variational (list): List of parameter values for classifier\n",
    "\n",
    "    Returns:\n",
    "        float: Average accuracy of classifier over `data`\n",
    "        list: Classifier's label predictions for each data point\n",
    "    \"\"\"\n",
    "    probability = classification_probability(data, variational)\n",
    "    predictions = [0 if p[0] >= p[1] else 1 for p in probability]\n",
    "    accuracy = 0\n",
    "    for i, prediction in enumerate(predictions):\n",
    "        if prediction == labels[i]:\n",
    "            accuracy += 1\n",
    "    accuracy /= len(labels)\n",
    "    return accuracy, predictions\n",
    "\n",
    "accuracy, predictions = test_classifier(TEST_DATA, TEST_LABELS, opt_var)\n",
    "accuracy"
   ]
  },
  {
   "cell_type": "code",
   "execution_count": null,
   "metadata": {
    "id": "k7BupCPpG8wR"
   },
   "outputs": [],
   "source": [
    "from matplotlib.lines import Line2D\n",
    "plt.figure(figsize=(9, 6))\n",
    "\n",
    "for feature, label in zip(TRAIN_DATA, TRAIN_LABELS):\n",
    "    COLOR = 'C0' if label == 0 else 'C1'\n",
    "    plt.scatter(feature[0], feature[1],\n",
    "                marker='o', s=100, color=COLOR)\n",
    "\n",
    "for feature, label, pred in zip(TEST_DATA, TEST_LABELS, predictions):\n",
    "    COLOR = 'C0' if pred == 0 else 'C1'\n",
    "    plt.scatter(feature[0], feature[1],\n",
    "                marker='s', s=100, color=COLOR)\n",
    "    if label != pred:  # mark wrongly classified\n",
    "        plt.scatter(feature[0], feature[1], marker='o', s=500,\n",
    "                    linewidths=2.5, facecolor='none', edgecolor='C3')\n",
    "\n",
    "legend_elements = [\n",
    "    Line2D([0], [0], marker='o', c='w', mfc='C1', label='A', ms=10),\n",
    "    Line2D([0], [0], marker='o', c='w', mfc='C0', label='B', ms=10),\n",
    "    Line2D([0], [0], marker='s', c='w', mfc='C1', label='predict A',\n",
    "           ms=10),\n",
    "    Line2D([0], [0], marker='s', c='w', mfc='C0', label='predict B',\n",
    "           ms=10),\n",
    "    Line2D([0], [0], marker='o', c='w', mfc='none', mec='C3',\n",
    "           label='wrongly classified', mew=2, ms=15)\n",
    "]\n",
    "\n",
    "plt.legend(handles=legend_elements, bbox_to_anchor=(1, 1),\n",
    "           loc='upper left')\n",
    "\n",
    "plt.title('Training & Test Data')\n",
    "plt.xlabel('x')\n",
    "plt.ylabel('y')\n",
    "plt.show()"
   ]
  },
  {
   "cell_type": "code",
   "execution_count": null,
   "metadata": {},
   "outputs": [],
   "source": [
    "from sklearn.preprocessing import OneHotEncoder\n",
    "encoder = OneHotEncoder()\n",
    "train_labels_oh = encoder.fit_transform(TRAIN_LABELS.reshape(-1, 1)\n",
    "                                       ).toarray()\n",
    "test_labels_oh = encoder.fit_transform(TEST_LABELS.reshape(-1, 1)\n",
    "                                      ).toarray()"
   ]
  },
  {
   "cell_type": "code",
   "execution_count": null,
   "metadata": {},
   "outputs": [],
   "source": [
    "from qiskit_machine_learning.algorithms.classifiers import VQC\n",
    "log_vqc_mom = OptimizerLog()\n",
    "vqc = VQC(feature_map=FEATURE_MAP,\n",
    "          ansatz=VAR_FORM,\n",
    "          loss='cross_entropy',\n",
    "          optimizer=SPSAMomentum(callback=log_vqc_mom.update),\n",
    "          initial_point=initial_point\n",
    "          #quantum_instance=Aer.get_backend('aer_simulator')\n",
    "         )\n",
    "tic = time()\n",
    "vqc.fit(TRAIN_DATA, train_labels_oh)\n",
    "toc = time()\n",
    "print (\"time:\", toc - tic)"
   ]
  },
  {
   "cell_type": "code",
   "execution_count": null,
   "metadata": {},
   "outputs": [],
   "source": [
    "from qiskit_machine_learning.algorithms.classifiers import VQC\n",
    "log_vqc_adam = OptimizerLog()\n",
    "vqc_adam = VQC(feature_map=FEATURE_MAP,\n",
    "          ansatz=VAR_FORM,\n",
    "          loss='cross_entropy',\n",
    "          optimizer=SPSAMomentum(callback=log_vqc_adam.update),\n",
    "          initial_point=initial_point\n",
    "          #quantum_instance=Aer.get_backend('aer_simulator')\n",
    "         )\n",
    "tic = time()\n",
    "vqc_adam.fit(TRAIN_DATA, train_labels_oh)\n",
    "toc = time()\n",
    "print (\"time:\", toc - tic)"
   ]
  },
  {
   "cell_type": "code",
   "execution_count": null,
   "metadata": {},
   "outputs": [],
   "source": [
    "fig = plt.figure()\n",
    "plt.plot(log_vqc.evaluations, log_vqc.costs, label = \"vqc\")\n",
    "plt.plot(log_vqc_mom.evaluations, log_vqc_mom.costs, label = \"vqc_momentum\")\n",
    "plt.plot(log_vqc_adam.evaluations, log_vqc_adam.costs, label = \"vqc_adam\")\n",
    "plt.legend()\n",
    "plt.xlabel('Steps')\n",
    "plt.ylabel('Cost')\n",
    "plt.show()"
   ]
  },
  {
   "cell_type": "code",
   "execution_count": null,
   "metadata": {},
   "outputs": [],
   "source": [
    "# score == accuracy\n",
    "vqc_adam.score(TEST_DATA, test_labels_oh)"
   ]
  },
  {
   "cell_type": "markdown",
   "metadata": {},
   "source": [
    "## conlusion\n",
    "\n",
    "Adam does not show improvement over SPSA\n",
    "\n",
    "1. Momentum only work on (batch) SGD\n",
    "2. The SPSA has more hyperparameter tuning\n",
    "\n",
    "    a. decay perturbation size and learning rate\n",
    "    \n",
    "    b. Clipping, trust-region, o"
   ]
  },
  {
   "cell_type": "code",
   "execution_count": null,
   "metadata": {},
   "outputs": [],
   "source": []
  }
 ],
 "metadata": {
  "colab": {
   "provenance": []
  },
  "kernelspec": {
   "display_name": "qiskitenv",
   "language": "python",
   "name": "qiskitenv"
  },
  "language_info": {
   "codemirror_mode": {
    "name": "ipython",
    "version": 3
   },
   "file_extension": ".py",
   "mimetype": "text/x-python",
   "name": "python",
   "nbconvert_exporter": "python",
   "pygments_lexer": "ipython3",
   "version": "3.10.9"
  }
 },
 "nbformat": 4,
 "nbformat_minor": 5
}
